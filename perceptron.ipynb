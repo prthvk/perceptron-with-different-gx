{
 "cells": [
  {
   "attachments": {},
   "cell_type": "markdown",
   "metadata": {},
   "source": [
    "Question 2"
   ]
  },
  {
   "cell_type": "code",
   "execution_count": null,
   "metadata": {},
   "outputs": [],
   "source": [
    "import numpy as np\n",
    "import matplotlib.pyplot as plt\n",
    "import pandas as pd\n",
    "import copy\n",
    "from sklearn import preprocessing\n",
    "from sklearn.preprocessing import StandardScaler\n",
    "from plot_multi import plot_multiclass_histograms"
   ]
  },
  {
   "cell_type": "code",
   "execution_count": null,
   "metadata": {},
   "outputs": [],
   "source": [
    "df_train = pd.read_csv('Dry_Bean_train.csv') \n",
    "df_x_train = df_train.drop(\"Class\", axis=1) \n",
    "df_y_train = df_train['Class']\n",
    "x_train = df_x_train.to_numpy()\n",
    "\n",
    "df_test = pd.read_csv('Dry_Bean_test.csv') \n",
    "df_x_test = df_test.drop(\"Class\", axis=1)\n",
    "df_y_test = df_test['Class']\n",
    "x_test = df_x_test.to_numpy()\n",
    "\n",
    "encoder = preprocessing.LabelEncoder()\n",
    "y_train_enc = encoder.fit_transform(df_y_train)\n",
    "y_test_enc = encoder.fit_transform(df_y_test)"
   ]
  },
  {
   "cell_type": "code",
   "execution_count": null,
   "metadata": {},
   "outputs": [],
   "source": [
    "w_og = np.ones((max(y_train_enc)+1, x_train.shape[1]+1))\n",
    "\n",
    "def train(X, y, cl, epochs=100, lr=1):\n",
    "    d , c = X.shape[1] , max(y_train_enc)+1\n",
    "    w = np.ones((1, d))\n",
    "    w_opt = np.ones((1, d))\n",
    "    num_samples = X.shape[0]\n",
    "    itr = 0\n",
    "    J_min = 100000000\n",
    "    reflected_data = copy.deepcopy(X)\n",
    "\n",
    "    for j in range(X.shape[0]):\n",
    "        if y[j] != cl:\n",
    "            reflected_data[j] *= -1\n",
    "    \n",
    "    for epoch in range(epochs):\n",
    "        temp = np.c_[reflected_data, y]\n",
    "        np.random.shuffle(temp)\n",
    "        reflected_data = temp[:, :17]\n",
    "        y = temp[:, -1]\n",
    "        for i in range(num_samples):\n",
    "            z = np.dot(w, reflected_data[i].T)\n",
    "            if z <= 0:\n",
    "                w += lr*reflected_data[i]\n",
    "            if itr > 1224799:\n",
    "                jw = Jw(reflected_data, w)\n",
    "                if jw<J_min:\n",
    "                    J_min = jw\n",
    "                    w_opt = w\n",
    "            itr = itr + 1\n",
    "    return w, J_min, w_opt\n",
    "\n",
    "\n",
    "def Jw(X, w):\n",
    "    j = 0\n",
    "    for i in range(X.shape[0]):\n",
    "        if np.dot(w, X[i, :].T) <= 0:\n",
    "            j -= np.dot(w, X[i, :].T)\n",
    "    return j\n",
    "\n",
    "def classify_1(X, y, w):\n",
    "    acc = 0\n",
    "    err = 0\n",
    "    unc = 0\n",
    "    for i in range(X.shape[0]):\n",
    "        score = np.dot(w, X[i].T)\n",
    "        for j in range(len(score)):\n",
    "            if score[j] > 0:\n",
    "                score[j] = 1\n",
    "            else:\n",
    "                score[j] = 0\n",
    "            \n",
    "        if np.count_nonzero(score) == 1:\n",
    "            clas = np.argmax(score)\n",
    "            if y[i] == clas:\n",
    "                acc += 1\n",
    "            else:\n",
    "                err += 1\n",
    "        else:\n",
    "            unc += 1\n",
    "    return acc/y.shape[0], err/y.shape[0], unc/y.shape[0]\n",
    "\n",
    "def classify_2(X, y, w):\n",
    "    acc = 0\n",
    "    err = 0\n",
    "    for i in range(X.shape[0]):\n",
    "        score = np.dot(w, X[i].T)\n",
    "        clas = np.argmax(score)\n",
    "        if y[i] == clas:\n",
    "            acc += 1\n",
    "        else:\n",
    "            err += 1\n",
    "    return acc/y.shape[0], err/y.shape[0]\n",
    "\n",
    "def classify_3(X, y, w):\n",
    "    acc = 0\n",
    "    err = 0\n",
    "    for i in range(X.shape[0]):\n",
    "        score = np.dot(w, X[i].T)\n",
    "        for j in range(len(score)):\n",
    "            score[j] = score[j]/np.linalg.norm(w[j][1:])\n",
    "        clas = np.argmax(score)\n",
    "        if y[i] == clas:\n",
    "            acc += 1\n",
    "        else:\n",
    "            err += 1\n",
    "    return acc/y.shape[0], err/y.shape[0]\n",
    "\n",
    "def plot_data(X,y,w,k):\n",
    "    x_k = X[y == k]\n",
    "    x_j = X[y != k]\n",
    "\n",
    "    y_k = np.dot(x_k, w[k])\n",
    "    y_j = np.dot(x_j, w[k])\n",
    "\n",
    "    plt.figure(figsize=(10,6))\n",
    "    plt.hist(y_k, alpha=0.5, label='(Sk)', bins=50)\n",
    "    plt.hist(y_j, alpha=0.5, label= '(Sj)', bins=50)\n",
    "\n",
    "    plt.title('plot')\n",
    "    plt.xlabel('g(x)')\n",
    "    plt.ylabel('Count')\n",
    "    plt.legend()\n",
    "    plt.show()"
   ]
  },
  {
   "cell_type": "code",
   "execution_count": null,
   "metadata": {},
   "outputs": [],
   "source": [
    "std = StandardScaler()\n",
    "std.fit(x_train)\n",
    "\n",
    "x_train_normalized = std.transform(x_train)\n",
    "x_train_normalized_aug = np.hstack((np.ones((x_train_normalized.shape[0], 1)), x_train_normalized))\n",
    "\n",
    "x_test_normalized = std.transform(x_test)\n",
    "x_test_normalized_aug = np.hstack((np.ones((x_test_normalized.shape[0], 1)), x_test_normalized))"
   ]
  },
  {
   "cell_type": "code",
   "execution_count": null,
   "metadata": {},
   "outputs": [],
   "source": [
    "for i in range(max(y_train_enc)+1):\n",
    "    w, J_min, w_opt = train(x_train_normalized_aug, y_train_enc, i)\n",
    "    w_og[i] = w_opt\n",
    "    plot_data(x_train_normalized_aug, y_train_enc, w_opt, i)"
   ]
  },
  {
   "cell_type": "code",
   "execution_count": null,
   "metadata": {},
   "outputs": [],
   "source": [
    "train_acc, train_err, train_unc = classify_1(x_train_normalized_aug, y_train_enc, w_og)\n",
    "print(\"Train Data Classification Accuracy for Method 1 -\", train_acc*100, \"%\")\n",
    "print(\"Train Data Error Rate for Method 1 -\", train_err*100, \"%\")\n",
    "print(\"Train Data Unclassified Rate for Method 1 -\", train_unc*100, \"%\")\n",
    "print()\n",
    "test_acc, test_err, test_unc = classify_1(x_test_normalized_aug, y_test_enc, w_og)\n",
    "print(\"Test Data Classification Accuracy for Method 1 -\", test_acc*100, \"%\")\n",
    "print(\"Test Data Error Rate for Method 1 -\", test_err*100, \"%\")\n",
    "print(\"Test Data Unclassified Rate for Method 1 -\", test_unc*100, \"%\")"
   ]
  },
  {
   "cell_type": "code",
   "execution_count": null,
   "metadata": {},
   "outputs": [],
   "source": [
    "train_acc, train_err = classify_2(x_train_normalized_aug, y_train_enc, w_og)\n",
    "print(\"Test Data Classification Accuracy for Method 2 -\", train_acc*100, \"%\")\n",
    "print(\"Train Data Error Rate for Method 2 -\", train_err*100, \"%\")\n",
    "print()\n",
    "test_acc, test_err= classify_2(x_test_normalized_aug, y_test_enc, w_og)\n",
    "print(\"Test Data Classification Accuracy for Method 2 -\", test_acc*100, \"%\")\n",
    "print(\"Test Data Error Rate for Method 2 -\", test_err*100, \"%\")"
   ]
  },
  {
   "cell_type": "code",
   "execution_count": null,
   "metadata": {},
   "outputs": [],
   "source": [
    "train_acc, train_err = classify_3(x_train_normalized_aug, y_train_enc, w_og)\n",
    "print(\"Test Data Classification Accuracy for Method 3 -\", train_acc*100, \"%\")\n",
    "print(\"Train Data Error Rate for Method 3 -\", train_err*100, \"%\")\n",
    "print()\n",
    "test_acc, test_err= classify_3(x_test_normalized_aug, y_test_enc, w_og)\n",
    "print(\"Test Data Classification Accuracy for Method 3 -\", test_acc*100, \"%\")\n",
    "print(\"Test Data Error Rate for Method 3 -\", test_err*100, \"%\")"
   ]
  },
  {
   "cell_type": "code",
   "execution_count": null,
   "metadata": {},
   "outputs": [],
   "source": [
    "plot_multiclass_histograms(x_test_normalized_aug, w_og.T, y_test_enc, 'xx')"
   ]
  }
 ],
 "metadata": {
  "kernelspec": {
   "display_name": "ee559",
   "language": "python",
   "name": "python3"
  },
  "language_info": {
   "codemirror_mode": {
    "name": "ipython",
    "version": 3
   },
   "file_extension": ".py",
   "mimetype": "text/x-python",
   "name": "python",
   "nbconvert_exporter": "python",
   "pygments_lexer": "ipython3",
   "version": "3.9.15"
  },
  "orig_nbformat": 4,
  "vscode": {
   "interpreter": {
    "hash": "2eb6f81582a0ea607b0e242b259759510c2a452bfcbd8fa23b3937e27ee9350a"
   }
  }
 },
 "nbformat": 4,
 "nbformat_minor": 2
}
